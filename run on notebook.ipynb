{
 "cells": [
  {
   "cell_type": "code",
   "execution_count": 1,
   "metadata": {},
   "outputs": [],
   "source": [
    "from __future__ import division, print_function\n",
    "import os\n",
    "import numpy as np\n",
    "\n",
    "# Tensorflow\n",
    "import tensorflow as tf\n",
    "from tensorflow.keras.models import load_model\n",
    "\n",
    "# load image\n",
    "from PIL import Image\n",
    "from skimage import transform\n",
    "\n",
    "# Flask utils\n",
    "from flask import Flask, request, render_template\n",
    "from werkzeug.utils import secure_filename\n",
    "from werkzeug.wrappers import Request, Response"
   ]
  },
  {
   "cell_type": "code",
   "execution_count": 2,
   "metadata": {},
   "outputs": [
    {
     "name": "stdout",
     "output_type": "stream",
     "text": [
      "Model Succes Load..\n"
     ]
    }
   ],
   "source": [
    "# Define a flask app\n",
    "app = Flask(__name__)\n",
    "\n",
    "# Model saved with Keras model.save()\n",
    "MODEL_PATH = 'Models/model_best.h5'\n",
    "\n",
    "#Load your trained model\n",
    "model = load_model(MODEL_PATH)\n",
    "\n",
    "#Tensorflow 2.x.x\n",
    "# model._make_predict_function()          \n",
    "\n",
    "#Tensorflow 2.2.0\n",
    "model.make_predict_function()          # Necessary to make everything ready to run on the GPU ahead of time\n",
    "print('Model Succes Load..')"
   ]
  },
  {
   "cell_type": "code",
   "execution_count": 3,
   "metadata": {},
   "outputs": [],
   "source": [
    "def model_predict(filename, model):\n",
    "   np_image = Image.open(filename)\n",
    "   np_image = np.array(np_image).astype('float32')/255\n",
    "   np_image = transform.resize(np_image, (64, 64,3))\n",
    "   np_image = np.expand_dims(np_image, axis=0)\n",
    "   pred = model.predict(np_image)\n",
    "   return pred"
   ]
  },
  {
   "cell_type": "code",
   "execution_count": 4,
   "metadata": {},
   "outputs": [],
   "source": [
    "@app.route('/', methods=['GET'])\n",
    "def index():\n",
    "    # Main page\n",
    "    return render_template('index.html')"
   ]
  },
  {
   "cell_type": "code",
   "execution_count": 5,
   "metadata": {},
   "outputs": [],
   "source": [
    "@app.route('/predict', methods=['GET', 'POST'])\n",
    "def upload():\n",
    "    if request.method == 'POST':\n",
    "        # Get the file from post request\n",
    "        f = request.files['file']\n",
    "\n",
    "        # Save the file to ./uploads\n",
    "        basepath = os.path.join(os.getcwd())\n",
    "        file_path = os.path.join(\n",
    "            basepath, 'uploads', secure_filename(f.filename))\n",
    "        f.save(file_path)\n",
    "\n",
    "        # Make prediction\n",
    "        pred = model_predict(file_path, model)\n",
    "        os.remove(file_path)#removes file from the server after prediction has been returned\n",
    "\n",
    "        if pred[0] > 0.5:\n",
    "            return \"Not Detect Malaria Cell\"\n",
    "        else:\n",
    "            return \"Detect Malaria Cell\"\n",
    "    return None"
   ]
  },
  {
   "cell_type": "code",
   "execution_count": 6,
<<<<<<< HEAD
   "metadata": {},
   "outputs": [],
   "source": [
    "@app.route('/predict-url', methods=['GET', 'POST'])\n",
    "def predictUrl():\n",
    "    if request.method == 'POST':\n",
    "        url = request.form['url']\n",
    "        try:\n",
    "            if any(ext in url for ext in ['.png','.jpg','.gif','.jpeg','.svg','.tiff']):\n",
    "                #Find The Last Segment Of Url\n",
    "                firstpos = url.rfind(\"/\")\n",
    "                lastpos = len(url)\n",
    "\n",
    "                #Define Folder Path and Filename\n",
    "                folder_path = os.path.join(os.getcwd(), 'uploads')\n",
    "                filename = url[firstpos+1:lastpos]\n",
    "\n",
    "                #Execute Wget\n",
    "                try:\n",
    "                    cmd = \"wget -P \"+folder_path+\" \"+url\n",
    "                    os.system(cmd)\n",
    "\n",
    "                    #Get Saved File\n",
    "                    saved_file = os.path.join(folder_path,filename)\n",
    "\n",
    "                    pred = model_predict(saved_file, model)   #Prediction\n",
    "                    os.remove(saved_file) #removes file from the server after prediction has been returned\n",
    "\n",
    "                    if pred[0] > 0.5:\n",
    "                        return \"Not Detect Malaria Cell\"\n",
    "                    else:\n",
    "                        return \"Detect Malaria Cell\"\n",
    "                except: \n",
    "                    return \"Unknown Error\"\n",
    "\n",
    "            else:\n",
    "                return \"Not A Public Image\"\n",
    "        except:\n",
    "            return \"General Error\"\n",
    "    return None"
   ]
  },
  {
   "cell_type": "code",
   "execution_count": 8,
=======
>>>>>>> 1a88640c7f34960f10cccd709c6a4cf8722a7df0
   "metadata": {
    "scrolled": true
   },
   "outputs": [
    {
     "name": "stderr",
     "output_type": "stream",
     "text": [
<<<<<<< HEAD
      " * Running on http://localhost:5000/ (Press CTRL+C to quit)\n",
      "127.0.0.1 - - [17/Jun/2020 19:12:27] \"\u001b[37mGET / HTTP/1.1\u001b[0m\" 200 -\n",
      "127.0.0.1 - - [17/Jun/2020 19:12:28] \"\u001b[37mGET /static/css/main.css HTTP/1.1\u001b[0m\" 200 -\n",
      "127.0.0.1 - - [17/Jun/2020 19:12:28] \"\u001b[37mGET /static/js/main.js HTTP/1.1\u001b[0m\" 200 -\n",
      "127.0.0.1 - - [17/Jun/2020 19:12:34] \"\u001b[33mGET /favicon.ico HTTP/1.1\u001b[0m\" 404 -\n",
      "127.0.0.1 - - [17/Jun/2020 19:12:45] \"\u001b[37mPOST /predict-url HTTP/1.1\u001b[0m\" 200 -\n",
      "127.0.0.1 - - [17/Jun/2020 19:12:53] \"\u001b[37mPOST /predict-url HTTP/1.1\u001b[0m\" 200 -\n",
      "127.0.0.1 - - [17/Jun/2020 19:13:08] \"\u001b[37mGET / HTTP/1.1\u001b[0m\" 200 -\n",
      "127.0.0.1 - - [17/Jun/2020 19:13:41] \"\u001b[37mPOST /predict-url HTTP/1.1\u001b[0m\" 200 -\n",
      "127.0.0.1 - - [17/Jun/2020 19:13:55] \"\u001b[37mPOST /predict-url HTTP/1.1\u001b[0m\" 200 -\n",
      "127.0.0.1 - - [17/Jun/2020 19:14:26] \"\u001b[37mPOST /predict-url HTTP/1.1\u001b[0m\" 200 -\n",
      "127.0.0.1 - - [17/Jun/2020 19:14:39] \"\u001b[37mPOST /predict-url HTTP/1.1\u001b[0m\" 200 -\n",
      "127.0.0.1 - - [17/Jun/2020 19:15:12] \"\u001b[37mPOST /predict-url HTTP/1.1\u001b[0m\" 200 -\n",
      "127.0.0.1 - - [17/Jun/2020 19:15:30] \"\u001b[37mPOST /predict HTTP/1.1\u001b[0m\" 200 -\n"
     ]
    },
    {
     "name": "stdout",
     "output_type": "stream",
     "text": [
      "WARNING:tensorflow:Model was constructed with shape (None, 64, 64, 3) for input Tensor(\"densenet121_input:0\", shape=(None, 64, 64, 3), dtype=float32), but it was called on an input with incompatible shape (None, 64, 64, 4).\n",
      "WARNING:tensorflow:Model was constructed with shape (None, 64, 64, 3) for input Tensor(\"input_1:0\", shape=(None, 64, 64, 3), dtype=float32), but it was called on an input with incompatible shape (None, 64, 64, 4).\n"
     ]
    },
    {
     "name": "stderr",
     "output_type": "stream",
     "text": [
      "127.0.0.1 - - [17/Jun/2020 19:15:36] \"\u001b[35m\u001b[1mPOST /predict HTTP/1.1\u001b[0m\" 500 -\n",
      "Error on request:\n",
      "Traceback (most recent call last):\n",
      "  File \"/home/dante/development/miniconda3/envs/mlpython/lib/python3.7/site-packages/tensorflow/python/framework/func_graph.py\", line 964, in wrapper\n",
      "    user_requested=True,\n",
      "  File \"/home/dante/development/miniconda3/envs/mlpython/lib/python3.7/site-packages/tensorflow/python/autograph/impl/api.py\", line 585, in converted_call\n",
      "    result = converted_f(*effective_args, **kwargs)\n",
      "  File \"/tmp/tmpmxp10a95.py\", line 13, in tf__predict_function\n",
      "    # limitations under the License.\n",
      "  File \"/home/dante/development/miniconda3/envs/mlpython/lib/python3.7/site-packages/tensorflow/python/autograph/impl/api.py\", line 418, in converted_call\n",
      "    return _call_unconverted(f, args, kwargs, options, False)\n",
      "  File \"/home/dante/development/miniconda3/envs/mlpython/lib/python3.7/site-packages/tensorflow/python/autograph/impl/api.py\", line 346, in _call_unconverted\n",
      "    return f(*args, **kwargs)\n",
      "  File \"/home/dante/development/miniconda3/envs/mlpython/lib/python3.7/site-packages/tensorflow/python/distribute/distribute_lib.py\", line 951, in run\n",
      "    return self._extended.call_for_each_replica(fn, args=args, kwargs=kwargs)\n",
      "  File \"/home/dante/development/miniconda3/envs/mlpython/lib/python3.7/site-packages/tensorflow/python/distribute/distribute_lib.py\", line 2290, in call_for_each_replica\n",
      "    return self._call_for_each_replica(fn, args, kwargs)\n",
      "  File \"/home/dante/development/miniconda3/envs/mlpython/lib/python3.7/site-packages/tensorflow/python/distribute/distribute_lib.py\", line 2649, in _call_for_each_replica\n",
      "    return fn(*args, **kwargs)\n",
      "  File \"/home/dante/development/miniconda3/envs/mlpython/lib/python3.7/site-packages/tensorflow/python/autograph/impl/api.py\", line 262, in wrapper\n",
      "    return converted_call(f, args, kwargs, options=options)\n",
      "  File \"/home/dante/development/miniconda3/envs/mlpython/lib/python3.7/site-packages/tensorflow/python/autograph/impl/api.py\", line 418, in converted_call\n",
      "    return _call_unconverted(f, args, kwargs, options, False)\n",
      "  File \"/home/dante/development/miniconda3/envs/mlpython/lib/python3.7/site-packages/tensorflow/python/autograph/impl/api.py\", line 346, in _call_unconverted\n",
      "    return f(*args, **kwargs)\n",
      "  File \"/home/dante/development/miniconda3/envs/mlpython/lib/python3.7/site-packages/tensorflow/python/keras/engine/training.py\", line 1122, in predict_step\n",
      "    return self(x, training=False)\n",
      "  File \"/home/dante/development/miniconda3/envs/mlpython/lib/python3.7/site-packages/tensorflow/python/keras/engine/base_layer.py\", line 927, in __call__\n",
      "    outputs = call_fn(cast_inputs, *args, **kwargs)\n",
      "  File \"/home/dante/development/miniconda3/envs/mlpython/lib/python3.7/site-packages/tensorflow/python/keras/engine/sequential.py\", line 277, in call\n",
      "    return super(Sequential, self).call(inputs, training=training, mask=mask)\n",
      "  File \"/home/dante/development/miniconda3/envs/mlpython/lib/python3.7/site-packages/tensorflow/python/keras/engine/network.py\", line 719, in call\n",
      "    convert_kwargs_to_constants=base_layer_utils.call_context().saving)\n",
      "  File \"/home/dante/development/miniconda3/envs/mlpython/lib/python3.7/site-packages/tensorflow/python/keras/engine/network.py\", line 888, in _run_internal_graph\n",
      "    output_tensors = layer(computed_tensors, **kwargs)\n",
      "  File \"/home/dante/development/miniconda3/envs/mlpython/lib/python3.7/site-packages/tensorflow/python/keras/engine/base_layer.py\", line 927, in __call__\n",
      "    outputs = call_fn(cast_inputs, *args, **kwargs)\n",
      "  File \"/home/dante/development/miniconda3/envs/mlpython/lib/python3.7/site-packages/tensorflow/python/keras/engine/network.py\", line 719, in call\n",
      "    convert_kwargs_to_constants=base_layer_utils.call_context().saving)\n",
      "  File \"/home/dante/development/miniconda3/envs/mlpython/lib/python3.7/site-packages/tensorflow/python/keras/engine/network.py\", line 888, in _run_internal_graph\n",
      "    output_tensors = layer(computed_tensors, **kwargs)\n",
      "  File \"/home/dante/development/miniconda3/envs/mlpython/lib/python3.7/site-packages/tensorflow/python/keras/engine/base_layer.py\", line 886, in __call__\n",
      "    self.name)\n",
      "  File \"/home/dante/development/miniconda3/envs/mlpython/lib/python3.7/site-packages/tensorflow/python/keras/engine/input_spec.py\", line 216, in assert_input_compatibility\n",
      "    ' but received input with shape ' + str(shape))\n",
      "ValueError: Input 0 of layer conv1/conv is incompatible with the layer: expected axis -1 of input shape to have value 3 but received input with shape [None, 70, 70, 4]\n",
      "\n",
      "During handling of the above exception, another exception occurred:\n",
      "\n",
      "Traceback (most recent call last):\n",
      "  File \"/home/dante/development/miniconda3/envs/mlpython/lib/python3.7/site-packages/werkzeug/serving.py\", line 323, in run_wsgi\n",
      "    execute(self.server.app)\n",
      "  File \"/home/dante/development/miniconda3/envs/mlpython/lib/python3.7/site-packages/werkzeug/serving.py\", line 312, in execute\n",
      "    application_iter = app(environ, start_response)\n",
      "  File \"/home/dante/development/miniconda3/envs/mlpython/lib/python3.7/site-packages/flask/app.py\", line 2464, in __call__\n",
      "    return self.wsgi_app(environ, start_response)\n",
      "  File \"/home/dante/development/miniconda3/envs/mlpython/lib/python3.7/site-packages/flask/app.py\", line 2450, in wsgi_app\n",
      "    response = self.handle_exception(e)\n",
      "  File \"/home/dante/development/miniconda3/envs/mlpython/lib/python3.7/site-packages/flask/app.py\", line 1867, in handle_exception\n",
      "    reraise(exc_type, exc_value, tb)\n",
      "  File \"/home/dante/development/miniconda3/envs/mlpython/lib/python3.7/site-packages/flask/_compat.py\", line 39, in reraise\n",
      "    raise value\n",
      "  File \"/home/dante/development/miniconda3/envs/mlpython/lib/python3.7/site-packages/flask/app.py\", line 2447, in wsgi_app\n",
      "    response = self.full_dispatch_request()\n",
      "  File \"/home/dante/development/miniconda3/envs/mlpython/lib/python3.7/site-packages/flask/app.py\", line 1952, in full_dispatch_request\n",
      "    rv = self.handle_user_exception(e)\n",
      "  File \"/home/dante/development/miniconda3/envs/mlpython/lib/python3.7/site-packages/flask/app.py\", line 1821, in handle_user_exception\n",
      "    reraise(exc_type, exc_value, tb)\n",
      "  File \"/home/dante/development/miniconda3/envs/mlpython/lib/python3.7/site-packages/flask/_compat.py\", line 39, in reraise\n",
      "    raise value\n",
      "  File \"/home/dante/development/miniconda3/envs/mlpython/lib/python3.7/site-packages/flask/app.py\", line 1950, in full_dispatch_request\n",
      "    rv = self.dispatch_request()\n",
      "  File \"/home/dante/development/miniconda3/envs/mlpython/lib/python3.7/site-packages/flask/app.py\", line 1936, in dispatch_request\n",
      "    return self.view_functions[rule.endpoint](**req.view_args)\n",
      "  File \"<ipython-input-5-d9a13b44e741>\", line 14, in upload\n",
      "    \n",
      "  File \"<ipython-input-3-c77e4b4c86f2>\", line 6, in model_predict\n",
      "    \n",
      "  File \"/home/dante/development/miniconda3/envs/mlpython/lib/python3.7/site-packages/tensorflow/python/keras/engine/training.py\", line 88, in _method_wrapper\n",
      "    return method(self, *args, **kwargs)\n",
      "  File \"/home/dante/development/miniconda3/envs/mlpython/lib/python3.7/site-packages/tensorflow/python/keras/engine/training.py\", line 1268, in predict\n",
      "    tmp_batch_outputs = predict_function(iterator)\n",
      "  File \"/home/dante/development/miniconda3/envs/mlpython/lib/python3.7/site-packages/tensorflow/python/eager/def_function.py\", line 580, in __call__\n",
      "    result = self._call(*args, **kwds)\n",
      "  File \"/home/dante/development/miniconda3/envs/mlpython/lib/python3.7/site-packages/tensorflow/python/eager/def_function.py\", line 618, in _call\n",
      "    results = self._stateful_fn(*args, **kwds)\n",
      "  File \"/home/dante/development/miniconda3/envs/mlpython/lib/python3.7/site-packages/tensorflow/python/eager/function.py\", line 2419, in __call__\n",
      "    graph_function, args, kwargs = self._maybe_define_function(args, kwargs)\n",
      "  File \"/home/dante/development/miniconda3/envs/mlpython/lib/python3.7/site-packages/tensorflow/python/eager/function.py\", line 2774, in _maybe_define_function\n",
      "    return self._define_function_with_shape_relaxation(args, kwargs)\n",
      "  File \"/home/dante/development/miniconda3/envs/mlpython/lib/python3.7/site-packages/tensorflow/python/eager/function.py\", line 2706, in _define_function_with_shape_relaxation\n",
      "    args, kwargs, override_flat_arg_shapes=relaxed_arg_shapes)\n",
      "  File \"/home/dante/development/miniconda3/envs/mlpython/lib/python3.7/site-packages/tensorflow/python/eager/function.py\", line 2667, in _create_graph_function\n",
      "    capture_by_value=self._capture_by_value),\n",
      "  File \"/home/dante/development/miniconda3/envs/mlpython/lib/python3.7/site-packages/tensorflow/python/framework/func_graph.py\", line 981, in func_graph_from_py_func\n",
      "    func_outputs = python_func(*func_args, **func_kwargs)\n",
      "  File \"/home/dante/development/miniconda3/envs/mlpython/lib/python3.7/site-packages/tensorflow/python/eager/def_function.py\", line 441, in wrapped_fn\n",
      "    return weak_wrapped_fn().__wrapped__(*args, **kwds)\n",
      "  File \"/home/dante/development/miniconda3/envs/mlpython/lib/python3.7/site-packages/tensorflow/python/framework/func_graph.py\", line 968, in wrapper\n",
      "    raise e.ag_error_metadata.to_exception(e)\n",
      "ValueError: in user code:\n",
      "\n",
      "    /home/dante/development/miniconda3/envs/mlpython/lib/python3.7/site-packages/tensorflow/python/keras/engine/training.py:1147 predict_function  *\n",
      "        outputs = self.distribute_strategy.run(\n",
      "    /home/dante/development/miniconda3/envs/mlpython/lib/python3.7/site-packages/tensorflow/python/distribute/distribute_lib.py:951 run  **\n",
      "        return self._extended.call_for_each_replica(fn, args=args, kwargs=kwargs)\n",
      "    /home/dante/development/miniconda3/envs/mlpython/lib/python3.7/site-packages/tensorflow/python/distribute/distribute_lib.py:2290 call_for_each_replica\n",
      "        return self._call_for_each_replica(fn, args, kwargs)\n",
      "    /home/dante/development/miniconda3/envs/mlpython/lib/python3.7/site-packages/tensorflow/python/distribute/distribute_lib.py:2649 _call_for_each_replica\n",
      "        return fn(*args, **kwargs)\n",
      "    /home/dante/development/miniconda3/envs/mlpython/lib/python3.7/site-packages/tensorflow/python/keras/engine/training.py:1122 predict_step  **\n",
      "        return self(x, training=False)\n",
      "    /home/dante/development/miniconda3/envs/mlpython/lib/python3.7/site-packages/tensorflow/python/keras/engine/base_layer.py:927 __call__\n",
      "        outputs = call_fn(cast_inputs, *args, **kwargs)\n",
      "    /home/dante/development/miniconda3/envs/mlpython/lib/python3.7/site-packages/tensorflow/python/keras/engine/sequential.py:277 call\n",
      "        return super(Sequential, self).call(inputs, training=training, mask=mask)\n",
      "    /home/dante/development/miniconda3/envs/mlpython/lib/python3.7/site-packages/tensorflow/python/keras/engine/network.py:719 call\n",
      "        convert_kwargs_to_constants=base_layer_utils.call_context().saving)\n",
      "    /home/dante/development/miniconda3/envs/mlpython/lib/python3.7/site-packages/tensorflow/python/keras/engine/network.py:888 _run_internal_graph\n",
      "        output_tensors = layer(computed_tensors, **kwargs)\n",
      "    /home/dante/development/miniconda3/envs/mlpython/lib/python3.7/site-packages/tensorflow/python/keras/engine/base_layer.py:927 __call__\n",
      "        outputs = call_fn(cast_inputs, *args, **kwargs)\n",
      "    /home/dante/development/miniconda3/envs/mlpython/lib/python3.7/site-packages/tensorflow/python/keras/engine/network.py:719 call\n",
      "        convert_kwargs_to_constants=base_layer_utils.call_context().saving)\n",
      "    /home/dante/development/miniconda3/envs/mlpython/lib/python3.7/site-packages/tensorflow/python/keras/engine/network.py:888 _run_internal_graph\n",
      "        output_tensors = layer(computed_tensors, **kwargs)\n",
      "    /home/dante/development/miniconda3/envs/mlpython/lib/python3.7/site-packages/tensorflow/python/keras/engine/base_layer.py:886 __call__\n",
      "        self.name)\n",
      "    /home/dante/development/miniconda3/envs/mlpython/lib/python3.7/site-packages/tensorflow/python/keras/engine/input_spec.py:216 assert_input_compatibility\n",
      "        ' but received input with shape ' + str(shape))\n",
      "\n",
      "    ValueError: Input 0 of layer conv1/conv is incompatible with the layer: expected axis -1 of input shape to have value 3 but received input with shape [None, 70, 70, 4]\n"
     ]
    },
    {
     "name": "stderr",
     "output_type": "stream",
     "text": [
      "127.0.0.1 - - [17/Jun/2020 19:18:31] \"\u001b[37mGET / HTTP/1.1\u001b[0m\" 200 -\n",
      "127.0.0.1 - - [17/Jun/2020 19:18:55] \"\u001b[37mGET / HTTP/1.1\u001b[0m\" 200 -\n",
      "127.0.0.1 - - [17/Jun/2020 19:19:08] \"\u001b[37mGET / HTTP/1.1\u001b[0m\" 200 -\n",
      "127.0.0.1 - - [17/Jun/2020 19:19:08] \"\u001b[37mGET /static/css/main.css HTTP/1.1\u001b[0m\" 200 -\n",
      "127.0.0.1 - - [17/Jun/2020 19:19:08] \"\u001b[37mGET /static/js/main.js HTTP/1.1\u001b[0m\" 200 -\n",
      "127.0.0.1 - - [17/Jun/2020 19:19:24] \"\u001b[37mGET / HTTP/1.1\u001b[0m\" 200 -\n",
      "127.0.0.1 - - [17/Jun/2020 19:19:47] \"\u001b[37mGET / HTTP/1.1\u001b[0m\" 200 -\n",
      "127.0.0.1 - - [17/Jun/2020 19:20:51] \"\u001b[37mGET / HTTP/1.1\u001b[0m\" 200 -\n",
      "127.0.0.1 - - [17/Jun/2020 19:21:32] \"\u001b[37mGET / HTTP/1.1\u001b[0m\" 200 -\n",
      "127.0.0.1 - - [17/Jun/2020 19:21:44] \"\u001b[37mGET / HTTP/1.1\u001b[0m\" 200 -\n",
      "127.0.0.1 - - [17/Jun/2020 19:22:23] \"\u001b[37mGET / HTTP/1.1\u001b[0m\" 200 -\n",
      "127.0.0.1 - - [17/Jun/2020 19:22:26] \"\u001b[37mGET / HTTP/1.1\u001b[0m\" 200 -\n",
      "127.0.0.1 - - [17/Jun/2020 19:23:03] \"\u001b[37mGET / HTTP/1.1\u001b[0m\" 200 -\n",
      "127.0.0.1 - - [17/Jun/2020 19:23:03] \"\u001b[37mGET /static/css/main.css HTTP/1.1\u001b[0m\" 200 -\n",
      "127.0.0.1 - - [17/Jun/2020 19:23:03] \"\u001b[37mGET /static/js/main.js HTTP/1.1\u001b[0m\" 200 -\n",
      "127.0.0.1 - - [17/Jun/2020 19:24:03] \"\u001b[37mGET / HTTP/1.1\u001b[0m\" 200 -\n",
      "127.0.0.1 - - [17/Jun/2020 19:24:49] \"\u001b[37mGET / HTTP/1.1\u001b[0m\" 200 -\n",
      "127.0.0.1 - - [17/Jun/2020 19:25:13] \"\u001b[37mGET / HTTP/1.1\u001b[0m\" 200 -\n"
=======
      " * Running on http://localhost:9000/ (Press CTRL+C to quit)\n",
      "127.0.0.1 - - [17/Jun/2020 15:36:41] \"\u001b[37mGET / HTTP/1.1\u001b[0m\" 200 -\n",
      "C:\\Users\\fikhri\\Anaconda3\\lib\\site-packages\\skimage\\transform\\_warps.py:105: UserWarning: The default mode, 'constant', will be changed to 'reflect' in skimage 0.15.\n",
      "  warn(\"The default mode, 'constant', will be changed to 'reflect' in \"\n",
      "C:\\Users\\fikhri\\Anaconda3\\lib\\site-packages\\skimage\\transform\\_warps.py:110: UserWarning: Anti-aliasing will be enabled by default in skimage 0.15 to avoid aliasing artifacts when down-sampling images.\n",
      "  warn(\"Anti-aliasing will be enabled by default in skimage 0.15 to \"\n",
      "127.0.0.1 - - [17/Jun/2020 15:37:22] \"\u001b[37mPOST /predict HTTP/1.1\u001b[0m\" 200 -\n",
      "127.0.0.1 - - [17/Jun/2020 15:37:40] \"\u001b[37mPOST /predict HTTP/1.1\u001b[0m\" 200 -\n",
      "127.0.0.1 - - [17/Jun/2020 15:37:52] \"\u001b[37mPOST /predict HTTP/1.1\u001b[0m\" 200 -\n",
      "127.0.0.1 - - [17/Jun/2020 15:38:04] \"\u001b[37mPOST /predict HTTP/1.1\u001b[0m\" 200 -\n",
      "127.0.0.1 - - [17/Jun/2020 15:40:37] \"\u001b[37mPOST /predict HTTP/1.1\u001b[0m\" 200 -\n",
      "127.0.0.1 - - [17/Jun/2020 15:40:44] \"\u001b[37mPOST /predict HTTP/1.1\u001b[0m\" 200 -\n",
      "127.0.0.1 - - [17/Jun/2020 15:41:01] \"\u001b[37mPOST /predict HTTP/1.1\u001b[0m\" 200 -\n",
      "127.0.0.1 - - [17/Jun/2020 15:41:10] \"\u001b[37mPOST /predict HTTP/1.1\u001b[0m\" 200 -\n",
      "127.0.0.1 - - [17/Jun/2020 15:41:19] \"\u001b[37mPOST /predict HTTP/1.1\u001b[0m\" 200 -\n",
      "127.0.0.1 - - [17/Jun/2020 15:43:53] \"\u001b[37mGET / HTTP/1.1\u001b[0m\" 200 -\n",
      "127.0.0.1 - - [17/Jun/2020 15:44:17] \"\u001b[37mPOST /predict HTTP/1.1\u001b[0m\" 200 -\n",
      "127.0.0.1 - - [17/Jun/2020 15:44:22] \"\u001b[37mPOST /predict HTTP/1.1\u001b[0m\" 200 -\n",
      "127.0.0.1 - - [17/Jun/2020 15:44:25] \"\u001b[37mPOST /predict HTTP/1.1\u001b[0m\" 200 -\n",
      "127.0.0.1 - - [17/Jun/2020 15:44:42] \"\u001b[37mPOST /predict HTTP/1.1\u001b[0m\" 200 -\n",
      "127.0.0.1 - - [17/Jun/2020 15:44:46] \"\u001b[37mPOST /predict HTTP/1.1\u001b[0m\" 200 -\n",
      "127.0.0.1 - - [17/Jun/2020 15:44:59] \"\u001b[37mPOST /predict HTTP/1.1\u001b[0m\" 200 -\n",
      "127.0.0.1 - - [17/Jun/2020 15:45:08] \"\u001b[37mPOST /predict HTTP/1.1\u001b[0m\" 200 -\n"
>>>>>>> 1a88640c7f34960f10cccd709c6a4cf8722a7df0
     ]
    },
    {
     "name": "stdout",
     "output_type": "stream",
     "text": [
      " * Serving Flask app \"__main__\" (lazy loading)\n",
<<<<<<< HEAD
      " * Environment: development\n",
=======
      " * Environment: production\n",
      "   WARNING: Do not use the development server in a production environment.\n",
      "   Use a production WSGI server instead.\n",
>>>>>>> 1a88640c7f34960f10cccd709c6a4cf8722a7df0
      " * Debug mode: on\n"
     ]
    },
    {
     "name": "stderr",
     "output_type": "stream",
     "text": [
<<<<<<< HEAD
      " * Running on http://127.0.0.1:5000/ (Press CTRL+C to quit)\n",
=======
>>>>>>> 1a88640c7f34960f10cccd709c6a4cf8722a7df0
      " * Restarting with stat\n"
     ]
    },
    {
     "ename": "SystemExit",
     "evalue": "1",
     "output_type": "error",
     "traceback": [
      "An exception has occurred, use %tb to see the full traceback.\n",
<<<<<<< HEAD
      "\u001b[0;31mSystemExit\u001b[0m\u001b[0;31m:\u001b[0m 1\n"
=======
      "\u001b[1;31mSystemExit\u001b[0m\u001b[1;31m:\u001b[0m 1\n"
>>>>>>> 1a88640c7f34960f10cccd709c6a4cf8722a7df0
     ]
    },
    {
     "name": "stderr",
     "output_type": "stream",
     "text": [
<<<<<<< HEAD
      "/home/dante/development/miniconda3/envs/mlpython/lib/python3.7/site-packages/IPython/core/interactiveshell.py:3339: UserWarning: To exit: use 'exit', 'quit', or Ctrl-D.\n",
=======
      "C:\\Users\\fikhri\\Anaconda3\\lib\\site-packages\\IPython\\core\\interactiveshell.py:3304: UserWarning: To exit: use 'exit', 'quit', or Ctrl-D.\n",
>>>>>>> 1a88640c7f34960f10cccd709c6a4cf8722a7df0
      "  warn(\"To exit: use 'exit', 'quit', or Ctrl-D.\", stacklevel=1)\n"
     ]
    }
   ],
   "source": [
    "if __name__ == '__main__':\n",
    "    from werkzeug.serving import run_simple\n",
    "    run_simple('localhost', 9000, app)\n",
    "    app.run(debug=True)"
   ]
  },
  {
   "cell_type": "code",
   "execution_count": null,
   "metadata": {},
   "outputs": [],
   "source": []
  }
 ],
 "metadata": {
  "kernelspec": {
   "display_name": "Python 3",
   "language": "python",
   "name": "python3"
  },
  "language_info": {
   "codemirror_mode": {
    "name": "ipython",
    "version": 3
   },
   "file_extension": ".py",
   "mimetype": "text/x-python",
   "name": "python",
   "nbconvert_exporter": "python",
   "pygments_lexer": "ipython3",
   "version": "3.7.7"
  }
 },
 "nbformat": 4,
 "nbformat_minor": 2
}
